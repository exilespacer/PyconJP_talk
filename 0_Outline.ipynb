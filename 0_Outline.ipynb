{
 "cells": [
  {
   "cell_type": "markdown",
   "metadata": {
    "slideshow": {
     "slide_type": "slide"
    }
   },
   "source": [
    "# Ways to Avoid Backtest Overfitting When Developing a Trading Strategy\n",
    "* PyCon JP 2015\n",
    "* C.Y. Yen\n",
    "* yen.chiayi@gmail.com\n"
   ]
  },
  {
   "cell_type": "markdown",
   "metadata": {
    "collapsed": true,
    "slideshow": {
     "slide_type": "slide"
    }
   },
   "source": [
    "# Who is Yen?\n",
    "\n",
    "* A Python & R user\n",
    "* A Financial Engineer\n",
    "    * Factor model\n",
    "    * Data extract-transform-load\n",
    "    * Machine learning modeling and other numeric analysis\n",
    "* A Finance Major PhD student\n",
    "    * Sentiment index construction\n",
    "* Active in many TW open-source communities like Python and R. Also the organizer of Taiwan R-Ladies community <a href=\"https://www.facebook.com/groups/twrladies/?fref=ts\">TW-RLadies</a>"
   ]
  },
  {
   "cell_type": "markdown",
   "metadata": {
    "slideshow": {
     "slide_type": "slide"
    }
   },
   "source": [
    "# So, what we are talking about today?"
   ]
  },
  {
   "cell_type": "markdown",
   "metadata": {
    "slideshow": {
     "slide_type": "subslide"
    }
   },
   "source": [
    "# Recall that ...\n",
    "Ways to Avoid Backtest Overfitting When Developing a Trading Strategy"
   ]
  },
  {
   "cell_type": "markdown",
   "metadata": {
    "slideshow": {
     "slide_type": "subslide"
    }
   },
   "source": [
    "# Thus, we are going to talk about..\n",
    "1. <a href='http://nbviewer.ipython.org/format/slides/github/exilespacer/PyconJP_talk/blob/master/1_How_to_build_a_trading_strategy.ipynb'>How to build a trading strategy?</a>\n",
    "2. <a href='http://nbviewer.ipython.org/format/slides/github/exilespacer/PyconJP_talk/blob/master/2_How_to_avoid_Backtest_Overfitting.ipynb'>How to avoid \"Backtest Overfitting\" ?</a>"
   ]
  },
  {
   "cell_type": "markdown",
   "metadata": {
    "slideshow": {
     "slide_type": "slide"
    }
   },
   "source": [
    "<img src='fig/pyconTW2016.png'>"
   ]
  },
  {
   "cell_type": "markdown",
   "metadata": {
    "slideshow": {
     "slide_type": "slide"
    }
   },
   "source": [
    "# Thank you!"
   ]
  }
 ],
 "metadata": {
  "celltoolbar": "Slideshow",
  "kernelspec": {
   "display_name": "Python 2",
   "language": "python",
   "name": "python2"
  },
  "language_info": {
   "codemirror_mode": {
    "name": "ipython",
    "version": 2
   },
   "file_extension": ".py",
   "mimetype": "text/x-python",
   "name": "python",
   "nbconvert_exporter": "python",
   "pygments_lexer": "ipython2",
   "version": "2.7.6"
  }
 },
 "nbformat": 4,
 "nbformat_minor": 0
}
