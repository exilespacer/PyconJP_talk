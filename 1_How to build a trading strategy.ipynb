{
 "cells": [
  {
   "cell_type": "markdown",
   "metadata": {
    "slideshow": {
     "slide_type": "slide"
    }
   },
   "source": [
    "#1. How to build a trading strategy?"
   ]
  },
  {
   "cell_type": "markdown",
   "metadata": {
    "slideshow": {
     "slide_type": "slide"
    }
   },
   "source": [
    "# Work Flow\n",
    "1. Data \n",
    "2. Modeling\n",
    "3. Backtest\n",
    "    * this is our next topic XD\n",
    "4. Execution\n",
    "    * Paper trade\n",
    "    * Brokerage system\n",
    "    * Risk management"
   ]
  },
  {
   "cell_type": "markdown",
   "metadata": {
    "slideshow": {
     "slide_type": "slide"
    }
   },
   "source": [
    "##1. Data\n",
    "* Pandas pd.data.io web\n",
    "* yahoo finance\n",
    "\n",
    "## Common pitfalls\n",
    "* survival bias"
   ]
  },
  {
   "cell_type": "markdown",
   "metadata": {},
   "source": [
    "# BTW, do you know pandas is built for financial usage?"
   ]
  },
  {
   "cell_type": "markdown",
   "metadata": {
    "slideshow": {
     "slide_type": "slide"
    }
   },
   "source": [
    "##2. Modeling\n",
    "* Factor model\n",
    "* Mean reversion & Momentum\n",
    "\n",
    "## Common pitfalls\n",
    "* Regime switch\n",
    "* Data-snooping bias\n",
    "* Look-ahead bias"
   ]
  },
  {
   "cell_type": "markdown",
   "metadata": {},
   "source": [
    "##3. Backtest\n",
    "* How do you know your strategy will survive?"
   ]
  }
 ],
 "metadata": {
  "celltoolbar": "Slideshow",
  "kernelspec": {
   "display_name": "Python 2",
   "language": "python",
   "name": "python2"
  },
  "language_info": {
   "codemirror_mode": {
    "name": "ipython",
    "version": 2
   },
   "file_extension": ".py",
   "mimetype": "text/x-python",
   "name": "python",
   "nbconvert_exporter": "python",
   "pygments_lexer": "ipython2",
   "version": "2.7.6"
  }
 },
 "nbformat": 4,
 "nbformat_minor": 0
}
