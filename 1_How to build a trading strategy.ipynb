{
 "cells": [
  {
   "cell_type": "markdown",
   "metadata": {
    "slideshow": {
     "slide_type": "slide"
    }
   },
   "source": [
    "#1. How to build a trading strategy?"
   ]
  },
  {
   "cell_type": "markdown",
   "metadata": {
    "slideshow": {
     "slide_type": "slide"
    }
   },
   "source": [
    "# Work Flow\n",
    "<img src='fig/work_flow.png' width=700>"
   ]
  },
  {
   "cell_type": "markdown",
   "metadata": {
    "slideshow": {
     "slide_type": "slide"
    }
   },
   "source": [
    "##1. Data: Where to get price data?\n",
    "* Open source: yahoo finance etc.\n",
    "* Commercial database: Bloomberg / Reutors etc."
   ]
  },
  {
   "cell_type": "raw",
   "metadata": {
    "slideshow": {
     "slide_type": "notes"
    }
   },
   "source": [
    "[note]\n",
    "* Here's the first step for develop a trading strategy, that is, collect data.\n"
   ]
  },
  {
   "cell_type": "markdown",
   "metadata": {
    "slideshow": {
     "slide_type": "subslide"
    }
   },
   "source": [
    "## Useful Python package for yahoo finace: Pandas"
   ]
  },
  {
   "cell_type": "code",
   "execution_count": 5,
   "metadata": {
    "collapsed": false
   },
   "outputs": [
    {
     "data": {
      "text/html": [
       "<div style=\"max-height:1000px;max-width:1500px;overflow:auto;\">\n",
       "<table border=\"1\" class=\"dataframe\">\n",
       "  <thead>\n",
       "    <tr style=\"text-align: right;\">\n",
       "      <th></th>\n",
       "      <th>Open</th>\n",
       "      <th>High</th>\n",
       "      <th>Low</th>\n",
       "      <th>Close</th>\n",
       "      <th>Volume</th>\n",
       "      <th>Adj Close</th>\n",
       "    </tr>\n",
       "    <tr>\n",
       "      <th>Date</th>\n",
       "      <th></th>\n",
       "      <th></th>\n",
       "      <th></th>\n",
       "      <th></th>\n",
       "      <th></th>\n",
       "      <th></th>\n",
       "    </tr>\n",
       "  </thead>\n",
       "  <tbody>\n",
       "    <tr>\n",
       "      <th>2015-09-28</th>\n",
       "      <td> 127.0</td>\n",
       "      <td> 127.0</td>\n",
       "      <td> 127.0</td>\n",
       "      <td> 127.0</td>\n",
       "      <td>        0</td>\n",
       "      <td> 127.0</td>\n",
       "    </tr>\n",
       "    <tr>\n",
       "      <th>2015-09-29</th>\n",
       "      <td> 127.0</td>\n",
       "      <td> 127.0</td>\n",
       "      <td> 127.0</td>\n",
       "      <td> 127.0</td>\n",
       "      <td>        0</td>\n",
       "      <td> 127.0</td>\n",
       "    </tr>\n",
       "    <tr>\n",
       "      <th>2015-09-30</th>\n",
       "      <td> 128.0</td>\n",
       "      <td> 131.0</td>\n",
       "      <td> 127.0</td>\n",
       "      <td> 130.0</td>\n",
       "      <td> 67112000</td>\n",
       "      <td> 130.0</td>\n",
       "    </tr>\n",
       "    <tr>\n",
       "      <th>2015-10-01</th>\n",
       "      <td> 131.0</td>\n",
       "      <td> 134.0</td>\n",
       "      <td> 129.5</td>\n",
       "      <td> 133.5</td>\n",
       "      <td> 49600000</td>\n",
       "      <td> 133.5</td>\n",
       "    </tr>\n",
       "    <tr>\n",
       "      <th>2015-10-02</th>\n",
       "      <td> 132.5</td>\n",
       "      <td> 132.5</td>\n",
       "      <td> 131.5</td>\n",
       "      <td> 132.0</td>\n",
       "      <td> 25216000</td>\n",
       "      <td> 132.0</td>\n",
       "    </tr>\n",
       "  </tbody>\n",
       "</table>\n",
       "<p>5 rows × 6 columns</p>\n",
       "</div>"
      ],
      "text/plain": [
       "             Open   High    Low  Close    Volume  Adj Close\n",
       "Date                                                       \n",
       "2015-09-28  127.0  127.0  127.0  127.0         0      127.0\n",
       "2015-09-29  127.0  127.0  127.0  127.0         0      127.0\n",
       "2015-09-30  128.0  131.0  127.0  130.0  67112000      130.0\n",
       "2015-10-01  131.0  134.0  129.5  133.5  49600000      133.5\n",
       "2015-10-02  132.5  132.5  131.5  132.0  25216000      132.0\n",
       "\n",
       "[5 rows x 6 columns]"
      ]
     },
     "execution_count": 5,
     "metadata": {},
     "output_type": "execute_result"
    }
   ],
   "source": [
    "import pandas.io.data as web\n",
    "df = web.DataReader('2330.TW', data_source='yahoo')\n",
    "df.tail()"
   ]
  },
  {
   "cell_type": "markdown",
   "metadata": {
    "slideshow": {
     "slide_type": "subslide"
    }
   },
   "source": [
    "## It seems pretty good to make money from free data source. However..."
   ]
  },
  {
   "cell_type": "markdown",
   "metadata": {
    "slideshow": {
     "slide_type": "subslide"
    }
   },
   "source": [
    "## Be careful to \"SURVIVAL BIAS\" !\n",
    "* If a company died at 2014, then you can't find their price data on yahoo finance at 2015.\n",
    "* All the data are the \"survivals\" !\n",
    "* If you build your trading strategy from these data, it's very likely to be biased!"
   ]
  },
  {
   "cell_type": "markdown",
   "metadata": {
    "slideshow": {
     "slide_type": "subslide"
    }
   },
   "source": [
    "## That's why we use bloomberg or Reutors."
   ]
  },
  {
   "cell_type": "markdown",
   "metadata": {
    "slideshow": {
     "slide_type": "subslide"
    }
   },
   "source": [
    "## Useful python package for Bloomberg data: Blpapi"
   ]
  },
  {
   "cell_type": "markdown",
   "metadata": {
    "slideshow": {
     "slide_type": "-"
    }
   },
   "source": [
    "<img src='fig/blpapi.png' width=700>"
   ]
  },
  {
   "cell_type": "markdown",
   "metadata": {
    "slideshow": {
     "slide_type": "subslide"
    }
   },
   "source": [
    "## The usage is a little bit complicated. \n",
    "## Strongly suggest you using a simplied version of <a href='https://github.com/exilespacer/blp_tool/blob/master/How_to_use_blp_tool.ipynb'>mine</a>."
   ]
  },
  {
   "cell_type": "markdown",
   "metadata": {
    "slideshow": {
     "slide_type": "subslide"
    }
   },
   "source": [
    "<img src='fig/blp_tool.png' width=860>"
   ]
  },
  {
   "cell_type": "markdown",
   "metadata": {
    "slideshow": {
     "slide_type": "subslide"
    }
   },
   "source": [
    "## But make sure you are ready to pay the money to Bloomberg XD"
   ]
  },
  {
   "cell_type": "markdown",
   "metadata": {
    "slideshow": {
     "slide_type": "slide"
    }
   },
   "source": [
    "##2. Modeling: Develop your trading strategy.\n",
    "* The finance sense or economics intuition is the key\n",
    "* Mean reversion & Momentum\n",
    "<img src='fig/reversion_momentum.png' width=430>"
   ]
  },
  {
   "cell_type": "markdown",
   "metadata": {
    "slideshow": {
     "slide_type": "subslide"
    }
   },
   "source": [
    "## Example: Machine learning modeling in Python \n",
    "\n",
    "<a href='http://nbviewer.ipython.org/format/slides/github/exilespacer/taichung.py/blob/master/0_Outline.ipynb'>slides link</a>\n",
    "<img src='fig/modeling.png' width=860>"
   ]
  },
  {
   "cell_type": "markdown",
   "metadata": {
    "slideshow": {
     "slide_type": "subslide"
    }
   },
   "source": [
    "## Useful python package for modeling\n",
    "* pandas: linear regression\n",
    "* sci-kit learn: principle component analysis, classify mode, cluster model\n",
    "* statsmodel: time series model\n",
    "* hcluster: cluster model"
   ]
  },
  {
   "cell_type": "markdown",
   "metadata": {
    "slideshow": {
     "slide_type": "subslide"
    }
   },
   "source": [
    "## Although we will not go too far in \"modeling\" topic, it's very important to keep aware of \n",
    "1. Data-snooping bias\n",
    "2. Look-ahead bias"
   ]
  },
  {
   "cell_type": "markdown",
   "metadata": {
    "slideshow": {
     "slide_type": "slide"
    }
   },
   "source": [
    "##3. Backtest: Like \"Test-Driven Development\" for strategy\n",
    "\n",
    "* How do you know your strategy will survive?\n",
    "    * Test your strategy by real data\n",
    "    * However, you only have history data\n",
    "* That's say, how do you know your strategy would survive in the past? (at least for some pattern that has shown before)"
   ]
  },
  {
   "cell_type": "markdown",
   "metadata": {
    "slideshow": {
     "slide_type": "subslide"
    }
   },
   "source": [
    "## However, Past -> Now? "
   ]
  },
  {
   "cell_type": "markdown",
   "metadata": {
    "slideshow": {
     "slide_type": "subslide"
    }
   },
   "source": [
    "# The limitation of backtest\n",
    "    1. For backtest, you believe that \"History will repeat itself.\"\n",
    "        But not necessary, actually.\n",
    "        \n",
    "    2. For backtest, you can't capture the interaction between your strategy and real world\n",
    "        You can't change history when you pretend to back to the history. (求婚大作戰)\n",
    "        For example, if you buy 4m SoftBank, will you influence its price?"
   ]
  },
  {
   "cell_type": "markdown",
   "metadata": {
    "slideshow": {
     "slide_type": "subslide"
    }
   },
   "source": [
    "# Open source tool for backtest\n",
    "* [Python] <a href=\"https://www.quantopian.com\">quantopian</a>\n",
    "<img src=\"fig/quantopian.png\" height=430>\n",
    "* reference: https://www.quantopian.com"
   ]
  },
  {
   "cell_type": "markdown",
   "metadata": {
    "slideshow": {
     "slide_type": "subslide"
    }
   },
   "source": [
    "# Let's try Quantopian with Momemtum strategy\n",
    "* Moving average cross\n",
    "* see A/R , Sharpe, Drawdown"
   ]
  },
  {
   "cell_type": "markdown",
   "metadata": {
    "collapsed": true,
    "slideshow": {
     "slide_type": "subslide"
    }
   },
   "source": [
    "##4. Execution\n",
    "* Before you put real money in market, you'd better do paper trade.\n",
    "* Brakerage and accounting system\n",
    "* Risk management sysyem"
   ]
  },
  {
   "cell_type": "markdown",
   "metadata": {
    "collapsed": true,
    "slideshow": {
     "slide_type": "slide"
    }
   },
   "source": [
    "# Recap how Python helps us develop a trading strategy.\n",
    "<img src='fig/work_flow.png' width=700>"
   ]
  }
 ],
 "metadata": {
  "celltoolbar": "Slideshow",
  "kernelspec": {
   "display_name": "Python 2",
   "language": "python",
   "name": "python2"
  },
  "language_info": {
   "codemirror_mode": {
    "name": "ipython",
    "version": 2
   },
   "file_extension": ".py",
   "mimetype": "text/x-python",
   "name": "python",
   "nbconvert_exporter": "python",
   "pygments_lexer": "ipython2",
   "version": "2.7.6"
  }
 },
 "nbformat": 4,
 "nbformat_minor": 0
}
