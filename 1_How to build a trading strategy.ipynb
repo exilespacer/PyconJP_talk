{
 "cells": [
  {
   "cell_type": "markdown",
   "metadata": {
    "slideshow": {
     "slide_type": "slide"
    }
   },
   "source": [
    "#1. How to build a trading strategy?"
   ]
  },
  {
   "cell_type": "markdown",
   "metadata": {
    "slideshow": {
     "slide_type": "slide"
    }
   },
   "source": [
    "# Work Flow for Financial Modeling\n",
    "<img src='fig/work_flow.png' width=700>"
   ]
  },
  {
   "cell_type": "markdown",
   "metadata": {
    "slideshow": {
     "slide_type": "slide"
    }
   },
   "source": [
    "##1. Data: Where to get price data?\n",
    "* Open source: yahoo finance etc.\n",
    "* Commercial database: Bloomberg / Reutors etc."
   ]
  },
  {
   "cell_type": "raw",
   "metadata": {
    "slideshow": {
     "slide_type": "notes"
    }
   },
   "source": [
    "[note]\n",
    "* When it comes to develop a trading strategy, collect data is always the first step.\n",
    "* In general, we have 2 kind of data: \n",
    "    * one is open source data: for example, yahoo finance or google finance\n",
    "    * or from commercial database like bloomberg or Reutors"
   ]
  },
  {
   "cell_type": "markdown",
   "metadata": {
    "slideshow": {
     "slide_type": "subslide"
    }
   },
   "source": [
    "## Useful Python package for yahoo finace: Pandas"
   ]
  },
  {
   "cell_type": "code",
   "execution_count": 5,
   "metadata": {
    "collapsed": false
   },
   "outputs": [
    {
     "data": {
      "text/html": [
       "<div style=\"max-height:1000px;max-width:1500px;overflow:auto;\">\n",
       "<table border=\"1\" class=\"dataframe\">\n",
       "  <thead>\n",
       "    <tr style=\"text-align: right;\">\n",
       "      <th></th>\n",
       "      <th>Open</th>\n",
       "      <th>High</th>\n",
       "      <th>Low</th>\n",
       "      <th>Close</th>\n",
       "      <th>Volume</th>\n",
       "      <th>Adj Close</th>\n",
       "    </tr>\n",
       "    <tr>\n",
       "      <th>Date</th>\n",
       "      <th></th>\n",
       "      <th></th>\n",
       "      <th></th>\n",
       "      <th></th>\n",
       "      <th></th>\n",
       "      <th></th>\n",
       "    </tr>\n",
       "  </thead>\n",
       "  <tbody>\n",
       "    <tr>\n",
       "      <th>2015-09-28</th>\n",
       "      <td> 127.0</td>\n",
       "      <td> 127.0</td>\n",
       "      <td> 127.0</td>\n",
       "      <td> 127.0</td>\n",
       "      <td>        0</td>\n",
       "      <td> 127.0</td>\n",
       "    </tr>\n",
       "    <tr>\n",
       "      <th>2015-09-29</th>\n",
       "      <td> 127.0</td>\n",
       "      <td> 127.0</td>\n",
       "      <td> 127.0</td>\n",
       "      <td> 127.0</td>\n",
       "      <td>        0</td>\n",
       "      <td> 127.0</td>\n",
       "    </tr>\n",
       "    <tr>\n",
       "      <th>2015-09-30</th>\n",
       "      <td> 128.0</td>\n",
       "      <td> 131.0</td>\n",
       "      <td> 127.0</td>\n",
       "      <td> 130.0</td>\n",
       "      <td> 67112000</td>\n",
       "      <td> 130.0</td>\n",
       "    </tr>\n",
       "    <tr>\n",
       "      <th>2015-10-01</th>\n",
       "      <td> 131.0</td>\n",
       "      <td> 134.0</td>\n",
       "      <td> 129.5</td>\n",
       "      <td> 133.5</td>\n",
       "      <td> 49600000</td>\n",
       "      <td> 133.5</td>\n",
       "    </tr>\n",
       "    <tr>\n",
       "      <th>2015-10-02</th>\n",
       "      <td> 132.5</td>\n",
       "      <td> 132.5</td>\n",
       "      <td> 131.5</td>\n",
       "      <td> 132.0</td>\n",
       "      <td> 25216000</td>\n",
       "      <td> 132.0</td>\n",
       "    </tr>\n",
       "  </tbody>\n",
       "</table>\n",
       "<p>5 rows × 6 columns</p>\n",
       "</div>"
      ],
      "text/plain": [
       "             Open   High    Low  Close    Volume  Adj Close\n",
       "Date                                                       \n",
       "2015-09-28  127.0  127.0  127.0  127.0         0      127.0\n",
       "2015-09-29  127.0  127.0  127.0  127.0         0      127.0\n",
       "2015-09-30  128.0  131.0  127.0  130.0  67112000      130.0\n",
       "2015-10-01  131.0  134.0  129.5  133.5  49600000      133.5\n",
       "2015-10-02  132.5  132.5  131.5  132.0  25216000      132.0\n",
       "\n",
       "[5 rows x 6 columns]"
      ]
     },
     "execution_count": 5,
     "metadata": {},
     "output_type": "execute_result"
    }
   ],
   "source": [
    "import pandas.io.data as web\n",
    "df = web.DataReader('2330.TW', data_source='yahoo')\n",
    "df.tail()"
   ]
  },
  {
   "cell_type": "raw",
   "metadata": {
    "slideshow": {
     "slide_type": "notes"
    }
   },
   "source": [
    "[note]\n",
    "* for open source data, you can write a web-spider to collect data from yahoo finance yourself. \n",
    "* But the good news is that, the great PANDAS has implement yahoo finance data collection"
   ]
  },
  {
   "cell_type": "markdown",
   "metadata": {
    "slideshow": {
     "slide_type": "subslide"
    }
   },
   "source": [
    "## It seems pretty good to make money from free data source. However..."
   ]
  },
  {
   "cell_type": "markdown",
   "metadata": {
    "slideshow": {
     "slide_type": "subslide"
    }
   },
   "source": [
    "## Be careful to \"SURVIVAL BIAS\" !\n",
    "* If a company died at 2014, then you can't find their price data on yahoo finance at 2015.\n",
    "* All the data on yahoo finance are the \"survivals\" only!\n",
    "* If you build your trading strategy from these data, it's very likely to be biased!"
   ]
  },
  {
   "cell_type": "raw",
   "metadata": {
    "slideshow": {
     "slide_type": "notes"
    }
   },
   "source": [
    "[note]\n",
    "* you must be very carefully about the \"survival bias\"\n",
    "* What's \"survival bias\"?\n",
    "    * for example, If a company died at 2014, then you can't find their price data on yahoo finance at 2015.\n",
    "    * that is, All the data on yahoo finance are only the \"survivals\" !\n",
    "    * If you build your trading strategy from these data, it's very likely to be biased!"
   ]
  },
  {
   "cell_type": "markdown",
   "metadata": {
    "slideshow": {
     "slide_type": "subslide"
    }
   },
   "source": [
    "## That's why we use bloomberg or Reutors."
   ]
  },
  {
   "cell_type": "markdown",
   "metadata": {
    "slideshow": {
     "slide_type": "subslide"
    }
   },
   "source": [
    "## Useful Python package for Bloomberg data: Blpapi"
   ]
  },
  {
   "cell_type": "markdown",
   "metadata": {
    "slideshow": {
     "slide_type": "-"
    }
   },
   "source": [
    "<img src='fig/blpapi.png' width=700>"
   ]
  },
  {
   "cell_type": "markdown",
   "metadata": {
    "slideshow": {
     "slide_type": "subslide"
    }
   },
   "source": [
    "## The usage is a little bit complicated. \n",
    "## Strongly suggest you using a simplied version of <a href='https://github.com/exilespacer/blp_tool/blob/master/How_to_use_blp_tool.ipynb'>mine</a>."
   ]
  },
  {
   "cell_type": "raw",
   "metadata": {
    "slideshow": {
     "slide_type": "notes"
    }
   },
   "source": [
    "[note]\n",
    "* The blpapi packages is a little bit complicated.\n",
    "    * you need to set up many security and authority in order to connect the data center.\n",
    "    * And also, you need to write a  parser for  data response\n",
    "* so I Strongly suggest you using a simplied version of mine."
   ]
  },
  {
   "cell_type": "markdown",
   "metadata": {
    "slideshow": {
     "slide_type": "subslide"
    }
   },
   "source": [
    "<img src='fig/blp_tool.png' width=860>"
   ]
  },
  {
   "cell_type": "markdown",
   "metadata": {
    "slideshow": {
     "slide_type": "subslide"
    }
   },
   "source": [
    "## But make sure you are ready to pay the money to Bloomberg XD"
   ]
  },
  {
   "cell_type": "markdown",
   "metadata": {
    "slideshow": {
     "slide_type": "slide"
    }
   },
   "source": [
    "##2. Modeling: Develop your trading strategy.\n",
    "\n",
    "* Example: <a href='http://nbviewer.ipython.org/format/slides/github/exilespacer/taichung.py/blob/master/0_Outline.ipynb'>Financial Modeling in Python </a>\n",
    "<img src='fig/modeling.png' width=500>\n",
    "* I have to say, the financial sense and economics intuition is the key to sucess"
   ]
  },
  {
   "cell_type": "raw",
   "metadata": {
    "slideshow": {
     "slide_type": "notes"
    }
   },
   "source": [
    "[note]\n",
    "* After you get your data, you develop your strategy in second stage.\n",
    "    * In this stage, the most importance knowledge is not computer skill or mathematics. \n",
    "    * It's the financial sense and economic intuition\n",
    "* I've shared some experience of financial modeling in Taiwan, this is the slides. If you're interested in this topic, you can look at it. but I'm sorry, it's in chinese now."
   ]
  },
  {
   "cell_type": "markdown",
   "metadata": {
    "slideshow": {
     "slide_type": "subslide"
    }
   },
   "source": [
    "## Useful python package for modeling\n",
    "* pandas: linear regression\n",
    "* sci-kit learn: principle component analysis, classify mode, cluster model\n",
    "* statsmodel: time series model\n",
    "* hcluster: cluster model"
   ]
  },
  {
   "cell_type": "markdown",
   "metadata": {
    "slideshow": {
     "slide_type": "slide"
    }
   },
   "source": [
    "##3. Backtest: Like \"Test-Driven Development\" for strategy\n",
    "\n",
    "* How do you know your strategy will survive?\n",
    "    * Test your strategy by real data \n",
    "    * Only historical data => backtest\n",
    "  "
   ]
  },
  {
   "cell_type": "raw",
   "metadata": {
    "slideshow": {
     "slide_type": "notes"
    }
   },
   "source": [
    "[notes]\n",
    "*After modeling a trading strategy, you need to test the performance. \n",
    "* Just like TTD, you will write some test code to evaluate your code. It's similar that you need to do backtest everytime you develp a strategy.\n",
    "    * The most importance question we want to know is that \"How do you know your strategy will survive\"\n",
    "    * We put our strategy into real data, and see how it could survice or not.\n",
    "\n",
    "* However, we only have history data\n",
    "    * Does performance in the past could be extended to the future?"
   ]
  },
  {
   "cell_type": "markdown",
   "metadata": {
    "slideshow": {
     "slide_type": "subslide"
    }
   },
   "source": [
    "# The limitation of backtest\n",
    "    1. Imply a belief that \"History will repeat itself.\"\n",
    "        But not necessary, actually.\n",
    "        \n",
    "    2. Can't capture the interaction between strategy and real world\n",
    "        ex. if you buy 4m shares of Toyota in one day, will you drive the price higher?"
   ]
  },
  {
   "cell_type": "raw",
   "metadata": {
    "slideshow": {
     "slide_type": "notes"
    }
   },
   "source": [
    "[note]\n",
    "*That's the limitation of backtest\n",
    "    1. For backtest, you believe that \"History will repeat itself.\"\n",
    "        But not necessary, actually.\n",
    "\n",
    "    2. For backtest, you can't capture the interaction between your strategy and real world\n",
    "        For example, if you buy 4m SoftBank, will you influence its price?\n",
    "        You can't change history when you pretend to back to the history."
   ]
  },
  {
   "cell_type": "markdown",
   "metadata": {
    "slideshow": {
     "slide_type": "subslide"
    }
   },
   "source": [
    "# Open source tool for backtest\n",
    "* [Python] <a href=\"https://www.quantopian.com\">quantopian</a>\n",
    "<img src=\"fig/quantopian.png\" height=430>"
   ]
  },
  {
   "cell_type": "markdown",
   "metadata": {
    "collapsed": true,
    "slideshow": {
     "slide_type": "subslide"
    }
   },
   "source": [
    "##4. Execution\n",
    "* Paper trade\n",
    "* Brakerage and accounting system\n",
    "* Risk management sysyem"
   ]
  },
  {
   "cell_type": "markdown",
   "metadata": {
    "collapsed": true,
    "slideshow": {
     "slide_type": "slide"
    }
   },
   "source": [
    "# Recap how Python helps us develop a trading strategy.\n",
    "<img src='fig/work_flow.png' width=500>"
   ]
  }
 ],
 "metadata": {
  "celltoolbar": "Slideshow",
  "kernelspec": {
   "display_name": "Python 2",
   "language": "python",
   "name": "python2"
  },
  "language_info": {
   "codemirror_mode": {
    "name": "ipython",
    "version": 2
   },
   "file_extension": ".py",
   "mimetype": "text/x-python",
   "name": "python",
   "nbconvert_exporter": "python",
   "pygments_lexer": "ipython2",
   "version": "2.7.6"
  }
 },
 "nbformat": 4,
 "nbformat_minor": 0
}
