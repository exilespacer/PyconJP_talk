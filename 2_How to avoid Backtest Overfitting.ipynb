{
 "cells": [
  {
   "cell_type": "markdown",
   "metadata": {
    "slideshow": {
     "slide_type": "slide"
    }
   },
   "source": [
    "## Now we've known the importance and power of backtest."
   ]
  },
  {
   "cell_type": "raw",
   "metadata": {
    "collapsed": false,
    "slideshow": {
     "slide_type": "notes"
    }
   },
   "source": [
    "[note]\n",
    "* So, now we know why we care about backtest, and why the backtest is so important.\n",
    "* Just think of it. You write a test for your own program, likewise, you have to use backtest to evaluate your strategy."
   ]
  },
  {
   "cell_type": "markdown",
   "metadata": {
    "slideshow": {
     "slide_type": "subslide"
    }
   },
   "source": [
    "##However, you must be very careful about how to interpret the backtest result..."
   ]
  },
  {
   "cell_type": "raw",
   "metadata": {
    "slideshow": {
     "slide_type": "notes"
    }
   },
   "source": [
    "[note]\n",
    "* However, when your strategy performs very well in backtest, don't feel happy to early.\n",
    "* you must be very careful about how to interpret the backtest result"
   ]
  },
  {
   "cell_type": "markdown",
   "metadata": {
    "slideshow": {
     "slide_type": "subslide"
    }
   },
   "source": [
    "## Because the result might not to be believed, sometimes.."
   ]
  },
  {
   "cell_type": "raw",
   "metadata": {
    "slideshow": {
     "slide_type": "notes"
    }
   },
   "source": [
    "[note]\n",
    "* Because the result might be not to be believed, sometimes\n",
    "* especially when it is overfitting."
   ]
  },
  {
   "cell_type": "markdown",
   "metadata": {
    "slideshow": {
     "slide_type": "slide"
    }
   },
   "source": [
    "##2. How to avoid Backtest Overfitting\n",
    "* How overfitting looks like?\n",
    "<img src=\"fig/overfitting_looklike.png\" width=430>\n",
    "* An overfitting model doesn't have any predictive power.\n"
   ]
  },
  {
   "cell_type": "raw",
   "metadata": {
    "slideshow": {
     "slide_type": "notes"
    }
   },
   "source": [
    "[note] \n",
    "* Now it's time to talk about the main topic how to avoid backtest overfitting.\n",
    "* If I can draw your attention to this figure, you can understand how overfitting looks like.\n",
    "    * First we look at the middle one, you can see that the underlying data is in a quadratic form, so it's just right if you fit a 2-order polynomial model.\n",
    "    althought it doesn't fit perfectly.\n",
    "    * You can also fit a muliple polynomial like the figure in the right hand side. It fit perfectly, but you can find that it doesn't have any predictive power now. \n",
    "* An overfitting model dosn't have any predictive power.\n",
    "* A model without predictive power is no use."
   ]
  },
  {
   "cell_type": "markdown",
   "metadata": {
    "slideshow": {
     "slide_type": "slide"
    }
   },
   "source": [
    "# What is backtest overfitting？\n",
    "* Think of this situation\n",
    "<img src='fig/letter.png' >\n",
    "    * A company claims that they are good at predicting the stock price. \n",
    "    * Would you pay for their investment advise?"
   ]
  },
  {
   "cell_type": "raw",
   "metadata": {
    "slideshow": {
     "slide_type": "notes"
    }
   },
   "source": [
    "[note]\n",
    "* Here's a very classical story:\n",
    "    * A company say that they are good at predicting the stock trend. \n",
    "    * they send you a predict letter to you every week. either UP or DOWN.\n",
    "    * You find that the company sucessfully predict the trend for 10 weeks.\n",
    "    * will you buy it?"
   ]
  },
  {
   "cell_type": "markdown",
   "metadata": {
    "slideshow": {
     "slide_type": "subslide"
    }
   },
   "source": [
    "## Seems they are professional, right?"
   ]
  },
  {
   "cell_type": "markdown",
   "metadata": {
    "slideshow": {
     "slide_type": "subslide"
    }
   },
   "source": [
    "##However, this company just play a trick of \"Law of inevitation\""
   ]
  },
  {
   "cell_type": "markdown",
   "metadata": {
    "slideshow": {
     "slide_type": "subslide"
    }
   },
   "source": [
    "## What happend?\n",
    "<img src='fig/letter.png' height=100>\n",
    "<img src='fig/letter_real_happend.png' width=600>"
   ]
  },
  {
   "cell_type": "raw",
   "metadata": {
    "slideshow": {
     "slide_type": "notes"
    }
   },
   "source": [
    "[note]\n",
    "* Guess what happen.\n",
    "* They choose 1024 innocent people, and send half of them UP signal, and the other DOWN signal.\n",
    "* So after 1 week, there're 512 people receive a correct message. \n",
    "* and then, thety send letter to this kind of group, and reuse the trick: half with UP signal and half with DOWN signal.\n",
    "* With such a trick, we would find that eventually there would be one people think it's a professional company, and willing to pay a lot of money."
   ]
  },
  {
   "cell_type": "markdown",
   "metadata": {
    "slideshow": {
     "slide_type": "subslide"
    }
   },
   "source": [
    "## That is backtest overfitting: \n",
    "## As long as you run backtest MANY times, you can reach A good result."
   ]
  },
  {
   "cell_type": "markdown",
   "metadata": {
    "slideshow": {
     "slide_type": "slide"
    }
   },
   "source": [
    "# How to detect backtest overfitting？\n",
    "1. Sample should be representative\n",
    "2. Parameter robustness\n",
    "3. <b>Hold-out method</b>\n",
    "    * In-sample & Out-of-sample data\n",
    "    * Measure out-of-sample performance\n",
    "<img src=\"fig/hold-out.png\" width=430>"
   ]
  },
  {
   "cell_type": "raw",
   "metadata": {
    "slideshow": {
     "slide_type": "notes"
    }
   },
   "source": [
    "[note]\n",
    "    3. Use hold-out method\n",
    "        * split data into 2 part: one is In-sample and the other is Out-of-sample data\n",
    "        * Examine the performance in both different data set\n",
    "        * If In sample perform good and out-of-sample performs bad, then the in-sample result might be because some overfitting or by luck."
   ]
  },
  {
   "cell_type": "markdown",
   "metadata": {
    "slideshow": {
     "slide_type": "subslide"
    }
   },
   "source": [
    "# How to detect backtest overfitting？\n",
    "1. Sample should be representative\n",
    "2. Parameter robustness\n",
    "3. Hold-out method\n",
    "4. <b>Walk forward analysis</b>\n",
    "<img src='fig/wfa.jpg' width=860>"
   ]
  },
  {
   "cell_type": "raw",
   "metadata": {
    "slideshow": {
     "slide_type": "notes"
    }
   },
   "source": [
    ".[note]\n",
    "    4. Walk forward method\n",
    "        * It's a very popular one in backtest\n",
    "        * What's it?\n",
    "            * Let's make an example:\n",
    "                * For every 3 years, we split data into 2 part: the first 2 is In-sample and the last 1 is Out-of-sample data\n",
    "                * fit your model by in-sample and evaluate it by out-sample\n",
    "                * you can get a series out out-sample performance by combine all the  yellow part\n",
    "             * You might already found that It's a extended version of hold out method\n",
    "             * But the adventage here is, you can use different parameter in different period. \n",
    "             * Think of it, during 2000 and during 2008, will your trading model use the same parameter?"
   ]
  },
  {
   "cell_type": "markdown",
   "metadata": {
    "slideshow": {
     "slide_type": "subslide"
    }
   },
   "source": [
    "# How to detect backtest overfitting？\n",
    "1. Sample should be representative\n",
    "2. Parameter robustness\n",
    "3. Hold-out method\n",
    "4. Walk forward analysis\n",
    "5. <b>probability of backtest overfitting</b>"
   ]
  },
  {
   "cell_type": "raw",
   "metadata": {
    "slideshow": {
     "slide_type": "notes"
    }
   },
   "source": [
    "[note]\n",
    "    5. also, there's another new approach. That is, estimate the probability of backtest overfitting."
   ]
  },
  {
   "cell_type": "markdown",
   "metadata": {
    "slideshow": {
     "slide_type": "subslide"
    }
   },
   "source": [
    "## If someone could tell me the probability of backtest overfitting of a strategy like this, that will be very useful.\n",
    "<img src='fig/overfit_pbo.png'>"
   ]
  },
  {
   "cell_type": "markdown",
   "metadata": {
    "slideshow": {
     "slide_type": "subslide"
    }
   },
   "source": [
    "## Is it possible? Yes.\n",
    "* <a href=\"http://www.rinfinance.com/agenda/2014/talk/MatthewBarry.pdf\">The Probability of Backtest Overfitting</a> @ R Finance  Chicago 2014\n",
    "* Bailey, David H. and Borwein, Jonathan M. and Lopez de Prado, Marcos and Zhu, Qiji Jim, The Probability of Backtest Overfitting (February 27, 2015). Journal of Computational Finance (Risk Journals), 2015, Forthcoming. Available at SSRN: http://ssrn.com/abstract=2326253 or http://dx.doi.org/10.2139/ssrn.2326253\n",
    "* Define a simple & intuition way to estimate the \"probability of backtest overfitting\""
   ]
  },
  {
   "cell_type": "raw",
   "metadata": {
    "slideshow": {
     "slide_type": "notes"
    }
   },
   "source": [
    "[note]\n",
    "* In 2014, there's a talk in R Finance about how to estimate a probability of backtest overfitting.\n",
    "* Actually, it's originally from a paper by these people.\n",
    "* they define a simple and intuition way to estimate pbo."
   ]
  },
  {
   "cell_type": "markdown",
   "metadata": {
    "slideshow": {
     "slide_type": "subslide"
    }
   },
   "source": [
    "# Intuition explaination\n",
    "1. Define \"Backtest Overfitting\"\n",
    "<img src='fig/definition_of_backtest_overfitting.png' height=400>"
   ]
  },
  {
   "cell_type": "raw",
   "metadata": {
    "slideshow": {
     "slide_type": "notes"
    }
   },
   "source": [
    "[note] \n",
    "* Let me introduce the key concept with you.\n",
    "    * They define that if a trade strategy is not backtest overfitting, it might perform like this way. see the blue figure. In-sample perform good, and also out-sample\n",
    "    * If p then q, is equal to if not q then not p, that is the case in green figure.\n",
    "    * That how they define backtest overfitting"
   ]
  },
  {
   "cell_type": "markdown",
   "metadata": {
    "slideshow": {
     "slide_type": "subslide"
    }
   },
   "source": [
    "# Intuition explaination\n",
    "1. Define \"Backtest overfitting\"\n",
    "2. Define \"Probability of backtest overfitting\"\n",
    "##Prob(backtest overfitting) = frequency of \"backtest overfitting\" just defined. \n",
    "For example, if we test 10 times on the data, we get 1 backtest overfitting, then the Prob=10%."
   ]
  },
  {
   "cell_type": "raw",
   "metadata": {
    "slideshow": {
     "slide_type": "notes"
    }
   },
   "source": [
    "[note]\n",
    "* And then we can define the probability of backtest test.\n",
    "* just calculate its frequency.\n",
    "* For example, if we test 10 times on the data, we get 1 backtest overfitting, then the Prob=10%."
   ]
  },
  {
   "cell_type": "markdown",
   "metadata": {
    "slideshow": {
     "slide_type": "subslide"
    }
   },
   "source": [
    "# Wait a minutes!  We only have one data, which means we can only test for once! How can we test for 10 times?\n"
   ]
  },
  {
   "cell_type": "markdown",
   "metadata": {
    "slideshow": {
     "slide_type": "slide"
    }
   },
   "source": [
    "## Recall \"Cross Validation\"!\n",
    "\n",
    "\n",
    "\n",
    "\n",
    "<graphics>"
   ]
  },
  {
   "cell_type": "markdown",
   "metadata": {
    "slideshow": {
     "slide_type": "subslide"
    }
   },
   "source": [
    "\n",
    "\n",
    "##Combinational Symmetric Cross Validation (CSCV)\n",
    "* Like \"Cross validation\n",
    "    * Split data evenly.\n",
    "    * Combine the data slice by a different order to generate a new data set (same length)\n",
    "<img src=\"fig/cross_validation.png\" height=300>"
   ]
  },
  {
   "cell_type": "raw",
   "metadata": {
    "slideshow": {
     "slide_type": "notes"
    }
   },
   "source": [
    "[note]\n",
    "* In this paper, they apply a algorithm named \"Combinational Symmetric Cross Validation\".\n",
    "* The key concept is like cross validation\n",
    "    * split data into 2 part, and the bigger one for training, the smaller one for test\n",
    "    * and re-split data into 2 part, one for training, the other for test\n",
    "    * then you can evaluate these out-of-sample performance\n",
    "* But in our case,\n",
    "    * we split data evenly\n",
    "    * then we combine these data slice by a different order to generate a new data set\n",
    "    * it's one of the characteristic for this algorithm: the length of  in-sample data and out-of-sample data is the same"
   ]
  },
  {
   "cell_type": "markdown",
   "metadata": {
    "slideshow": {
     "slide_type": "subslide"
    }
   },
   "source": [
    "* About CSCV, please refer to: <a href=\"http://nbviewer.ipython.org/format/slides/github/exilespacer/ProbabilityOfBacktestOverfitting/blob/master/Probability_of_overfitting.ipynb#/\">link</a>."
   ]
  }
 ],
 "metadata": {
  "celltoolbar": "Slideshow",
  "kernelspec": {
   "display_name": "R",
   "language": "R",
   "name": "ir"
  },
  "language_info": {
   "codemirror_mode": "r",
   "file_extension": ".r",
   "mimetype": "text/x-r-source",
   "name": "R",
   "pygments_lexer": "r",
   "version": "3.1.2"
  }
 },
 "nbformat": 4,
 "nbformat_minor": 0
}
